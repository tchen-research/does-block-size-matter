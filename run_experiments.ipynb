{
 "cells": [
  {
   "cell_type": "code",
   "execution_count": 3,
   "id": "288cec2f-4113-408a-aad9-f8bcccaf8bde",
   "metadata": {},
   "outputs": [],
   "source": [
    "import numpy as np\n",
    "import scipy as sp\n",
    "import matplotlib.pyplot as plt\n",
    "import time as time\n",
    "\n",
    "\n",
    "from bcg_code import *\n",
    "\n",
    "from IPython.display import clear_output"
   ]
  },
  {
   "cell_type": "markdown",
   "id": "91b1428b-a5d3-4771-b041-60ab85e3692f",
   "metadata": {},
   "source": [
    "# lanczos time"
   ]
  },
  {
   "cell_type": "code",
   "execution_count": 38,
   "id": "9a11b218-0760-4718-aedb-9580b236e750",
   "metadata": {},
   "outputs": [
    {
     "data": {
      "text/plain": [
       "(array([  1.        ,   1.66810054,   2.7825594 ,   4.64158883,\n",
       "          7.74263683,  12.91549665,  21.5443469 ,  35.93813664,\n",
       "         59.94842503, 100.        ]),\n",
       " array([  1.        ,   1.66810054,   2.7825594 ,   4.64158883,\n",
       "          7.74263683,  12.91549665,  21.5443469 ,  35.93813664,\n",
       "         59.94842503, 100.        ]))"
      ]
     },
     "execution_count": 38,
     "metadata": {},
     "output_type": "execute_result"
    }
   ],
   "source": [
    "n = 10\n",
    "\n",
    "np.geomspace(1,100,n),\\\n",
    "100**((np.arange(n))/(n-1))"
   ]
  },
  {
   "cell_type": "code",
   "execution_count": 40,
   "id": "a603b884-5eef-46a5-91e4-a3da40c3e969",
   "metadata": {},
   "outputs": [],
   "source": [
    "experiments = []\n",
    "\n",
    "# intro\n",
    "# n = 4000\n",
    "# Λ = np.geomspace(1,100,n)\n",
    "\n",
    "# experiments.append({\n",
    "#     'name': 'intro',\n",
    "#     'Λ': Λ,\n",
    "#     'blocksizes': [1,5,20,100,200],\n",
    "#     'qs': [650,200,60,11,7],\n",
    "#     'skips': [20,4,1,1,1],\n",
    "#     'ks': [50,100,200]\n",
    "# })\n",
    "\n",
    "# duplicate eigenvalues\n",
    "n = 4000\n",
    "Λ = np.hstack([np.geomspace(1,100,n//2),np.geomspace(1,100,n//2)])\n",
    "\n",
    "experiments.append({\n",
    "    'name': 'doubles',\n",
    "    'Λ': Λ,\n",
    "    'blocksizes': [1,5,20,100,200],\n",
    "    'qs': [650,200,60,11,7],\n",
    "    'skips': [20,4,1,1,1],\n",
    "    'ks': [50,100,200]\n",
    "})\n",
    "\n",
    "# TW example\n",
    "# n = 4000\n",
    "# Λ = np.exp(-(1+np.arange(n))/25)\n",
    "\n",
    "# experiments.append({\n",
    "#     'name': 'fastdecay',\n",
    "#     'Λ': Λ,\n",
    "#     'blocksizes': [1,5,20,100,200],\n",
    "#     'qs': [220,60,20,5,4],\n",
    "#     'skips': [10,2,1,1,1],\n",
    "#     'ks': [50,100,200],\n",
    "#     'ylims': [1e-6,1e1],\n",
    "# })\n",
    "\n",
    "# n = 4000\n",
    "# Λ = np.max([np.exp(-(1+np.arange(n))/25),(1-(1+np.arange(n))/(n+1))/25],axis=0)\n",
    "\n",
    "# experiments.append({\n",
    "#     'name': 'slowdecay',\n",
    "#     'Λ': Λ,\n",
    "#     'blocksizes': [1,5,20,100,200],\n",
    "#     'qs': [400,180,50,13,10],\n",
    "#     'skips': [20,4,1,1,1],\n",
    "#     'ks': [50,100,200],\n",
    "#     'ylims': [1e-6,1e1],\n",
    "# })"
   ]
  },
  {
   "cell_type": "code",
   "execution_count": 41,
   "id": "787b2bbd-ca4a-45ae-be50-49fe998d1973",
   "metadata": {},
   "outputs": [
    {
     "name": "stdout",
     "output_type": "stream",
     "text": [
      "4 7 200\n"
     ]
    }
   ],
   "source": [
    "for experiment in experiments:\n",
    "\n",
    "    # load experiment\n",
    "    name = experiment['name']\n",
    "    Λ = experiment['Λ']\n",
    "    blocksizes = experiment['blocksizes']\n",
    "    qs = experiment['qs']\n",
    "    skips = experiment['skips']\n",
    "    ks = experiment['ks']\n",
    "\n",
    "    A = np.diag(Λ)\n",
    "    class AAt:\n",
    "        def __matmul__(self,X):\n",
    "            return A@(A.T@X)\n",
    "            \n",
    "    AAt = AAt()\n",
    "\n",
    "    # run experiment\n",
    "    all_times = {}\n",
    "    all_errs = {}\n",
    "    for i,(b,q,skip) in enumerate(zip(blocksizes,qs,skips)):\n",
    "    \n",
    "        B = np.random.randn(n,b)\n",
    "        \n",
    "        Q,_,times = block_lanczos(AAt,B,q,reorth=True)\n",
    "    \n",
    "        all_times[b] = times\n",
    "    \n",
    "        for k in ks:\n",
    "            all_errs[b,k] = np.zeros(q+1)\n",
    "            \n",
    "        for j in range(0,q+1,skip):\n",
    "        \n",
    "            Zj = Q[:,:b*j]\n",
    "    \n",
    "            X = Zj.T@A\n",
    "            Qtilde,s,Vt = np.linalg.svd(X,full_matrices=False)\n",
    "    \n",
    "            for k in ks:\n",
    "                print(i,j,k)\n",
    "                clear_output(wait=True)\n",
    "                \n",
    "                A_hat = Zj@(Qtilde[:,:k]@(np.diag(s[:k])@Vt[:k]))\n",
    "                err = np.linalg.norm(A - A_hat)\n",
    "                \n",
    "                all_errs[b,k][j] = err\n",
    "\n",
    "    np.save(f'data/{name}',[all_errs,all_times])"
   ]
  }
 ],
 "metadata": {
  "kernelspec": {
   "display_name": "Python 3 (ipykernel)",
   "language": "python",
   "name": "python3"
  },
  "language_info": {
   "codemirror_mode": {
    "name": "ipython",
    "version": 3
   },
   "file_extension": ".py",
   "mimetype": "text/x-python",
   "name": "python",
   "nbconvert_exporter": "python",
   "pygments_lexer": "ipython3",
   "version": "3.10.9"
  }
 },
 "nbformat": 4,
 "nbformat_minor": 5
}
